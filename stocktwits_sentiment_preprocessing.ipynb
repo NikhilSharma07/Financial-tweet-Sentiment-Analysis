{
 "cells": [
  {
   "cell_type": "code",
   "execution_count": 1,
   "metadata": {},
   "outputs": [],
   "source": [
    "import pandas as pd"
   ]
  },
  {
   "cell_type": "code",
   "execution_count": 2,
   "metadata": {},
   "outputs": [],
   "source": [
    "df = pd.read_csv(\"stocktwits_rawdata.csv\")"
   ]
  },
  {
   "cell_type": "code",
   "execution_count": 3,
   "metadata": {},
   "outputs": [
    {
     "data": {
      "text/html": [
       "<div>\n",
       "<style scoped>\n",
       "    .dataframe tbody tr th:only-of-type {\n",
       "        vertical-align: middle;\n",
       "    }\n",
       "\n",
       "    .dataframe tbody tr th {\n",
       "        vertical-align: top;\n",
       "    }\n",
       "\n",
       "    .dataframe thead th {\n",
       "        text-align: right;\n",
       "    }\n",
       "</style>\n",
       "<table border=\"1\" class=\"dataframe\">\n",
       "  <thead>\n",
       "    <tr style=\"text-align: right;\">\n",
       "      <th></th>\n",
       "      <th>symbol</th>\n",
       "      <th>sentiment</th>\n",
       "      <th>message</th>\n",
       "      <th>datetime</th>\n",
       "      <th>user</th>\n",
       "      <th>message_id</th>\n",
       "    </tr>\n",
       "  </thead>\n",
       "  <tbody>\n",
       "    <tr>\n",
       "      <th>0</th>\n",
       "      <td>TSLA</td>\n",
       "      <td>Bullish</td>\n",
       "      <td>$TSLA funny all these people are saying it’s g...</td>\n",
       "      <td>2020-09-14T11:43:32Z</td>\n",
       "      <td>1903120</td>\n",
       "      <td>243530957</td>\n",
       "    </tr>\n",
       "    <tr>\n",
       "      <th>1</th>\n",
       "      <td>TSLA</td>\n",
       "      <td>Bullish</td>\n",
       "      <td>$TSLA  anyone else feel we have been pinned th...</td>\n",
       "      <td>2020-09-14T11:43:20Z</td>\n",
       "      <td>2265730</td>\n",
       "      <td>243530931</td>\n",
       "    </tr>\n",
       "    <tr>\n",
       "      <th>2</th>\n",
       "      <td>TSLA</td>\n",
       "      <td>Bearish</td>\n",
       "      <td>$TSLA  $350 anytime !!! watchout</td>\n",
       "      <td>2020-09-14T11:42:47Z</td>\n",
       "      <td>1134284</td>\n",
       "      <td>243530837</td>\n",
       "    </tr>\n",
       "    <tr>\n",
       "      <th>3</th>\n",
       "      <td>TSLA</td>\n",
       "      <td>Bullish</td>\n",
       "      <td>$TSLA bears are scared!!! Letting them bring i...</td>\n",
       "      <td>2020-09-14T11:42:30Z</td>\n",
       "      <td>1025351</td>\n",
       "      <td>243530799</td>\n",
       "    </tr>\n",
       "    <tr>\n",
       "      <th>4</th>\n",
       "      <td>TSLA</td>\n",
       "      <td>Bullish</td>\n",
       "      <td>$TSLA \\n💵🚀🚀🚀🚀🚀🚀 DAY OF RECKONING BULLS 🥂🍾⚡️</td>\n",
       "      <td>2020-09-14T11:42:22Z</td>\n",
       "      <td>3943356</td>\n",
       "      <td>243530774</td>\n",
       "    </tr>\n",
       "  </tbody>\n",
       "</table>\n",
       "</div>"
      ],
      "text/plain": [
       "  symbol sentiment                                            message  \\\n",
       "0   TSLA   Bullish  $TSLA funny all these people are saying it’s g...   \n",
       "1   TSLA   Bullish  $TSLA  anyone else feel we have been pinned th...   \n",
       "2   TSLA   Bearish                   $TSLA  $350 anytime !!! watchout   \n",
       "3   TSLA   Bullish  $TSLA bears are scared!!! Letting them bring i...   \n",
       "4   TSLA   Bullish        $TSLA \\n💵🚀🚀🚀🚀🚀🚀 DAY OF RECKONING BULLS 🥂🍾⚡️   \n",
       "\n",
       "               datetime     user  message_id  \n",
       "0  2020-09-14T11:43:32Z  1903120   243530957  \n",
       "1  2020-09-14T11:43:20Z  2265730   243530931  \n",
       "2  2020-09-14T11:42:47Z  1134284   243530837  \n",
       "3  2020-09-14T11:42:30Z  1025351   243530799  \n",
       "4  2020-09-14T11:42:22Z  3943356   243530774  "
      ]
     },
     "execution_count": 3,
     "metadata": {},
     "output_type": "execute_result"
    }
   ],
   "source": [
    "df.head()"
   ]
  },
  {
   "cell_type": "code",
   "execution_count": 4,
   "metadata": {},
   "outputs": [
    {
     "data": {
      "text/plain": [
       "(2165, 6)"
      ]
     },
     "execution_count": 4,
     "metadata": {},
     "output_type": "execute_result"
    }
   ],
   "source": [
    "df.shape"
   ]
  },
  {
   "cell_type": "code",
   "execution_count": 5,
   "metadata": {},
   "outputs": [],
   "source": [
    "data = df['message']"
   ]
  },
  {
   "cell_type": "code",
   "execution_count": 6,
   "metadata": {},
   "outputs": [],
   "source": [
    "data1 = data.replace(to_replace= '[^a-zA-Z0-9]',value = ' ',regex = True)"
   ]
  },
  {
   "cell_type": "code",
   "execution_count": 7,
   "metadata": {},
   "outputs": [
    {
     "data": {
      "text/plain": [
       "(2165,)"
      ]
     },
     "execution_count": 7,
     "metadata": {},
     "output_type": "execute_result"
    }
   ],
   "source": [
    "data1.shape"
   ]
  },
  {
   "cell_type": "code",
   "execution_count": 8,
   "metadata": {},
   "outputs": [],
   "source": [
    "#data1.to_csv('stocktwits_cleaned_messages.csv')"
   ]
  },
  {
   "cell_type": "code",
   "execution_count": 9,
   "metadata": {},
   "outputs": [],
   "source": [
    "import nltk"
   ]
  },
  {
   "cell_type": "code",
   "execution_count": 10,
   "metadata": {},
   "outputs": [
    {
     "name": "stdout",
     "output_type": "stream",
     "text": [
      "showing info https://raw.githubusercontent.com/nltk/nltk_data/gh-pages/index.xml\n"
     ]
    },
    {
     "name": "stderr",
     "output_type": "stream",
     "text": [
      "[nltk_data] Downloading package stopwords to /home/prem/nltk_data...\n",
      "[nltk_data]   Package stopwords is already up-to-date!\n"
     ]
    }
   ],
   "source": [
    "#nltk.download();\n",
    "nltk.download('stopwords');"
   ]
  },
  {
   "cell_type": "code",
   "execution_count": 11,
   "metadata": {},
   "outputs": [],
   "source": [
    "data1 = data1.str.lower()"
   ]
  },
  {
   "cell_type": "code",
   "execution_count": 12,
   "metadata": {},
   "outputs": [
    {
     "data": {
      "text/plain": [
       "' tsla funny all these people are saying it s going to crash  it had its pullback and bounced off the 50ma already  now it s gearing up for battery day  should be a steady rise over 400 this week  stop with the nonsense  if you want to short and add puts do it at the top after news is out      '"
      ]
     },
     "execution_count": 12,
     "metadata": {},
     "output_type": "execute_result"
    }
   ],
   "source": [
    "data1[0]"
   ]
  },
  {
   "cell_type": "code",
   "execution_count": 13,
   "metadata": {},
   "outputs": [
    {
     "name": "stderr",
     "output_type": "stream",
     "text": [
      "[nltk_data] Downloading package punkt to /home/prem/nltk_data...\n",
      "[nltk_data]   Package punkt is already up-to-date!\n"
     ]
    },
    {
     "data": {
      "text/plain": [
       "True"
      ]
     },
     "execution_count": 13,
     "metadata": {},
     "output_type": "execute_result"
    }
   ],
   "source": [
    "nltk.download('punkt')"
   ]
  },
  {
   "cell_type": "code",
   "execution_count": 14,
   "metadata": {},
   "outputs": [
    {
     "data": {
      "text/plain": [
       "['tsla',\n",
       " 'funny',\n",
       " 'all',\n",
       " 'these',\n",
       " 'people',\n",
       " 'are',\n",
       " 'saying',\n",
       " 'it',\n",
       " 's',\n",
       " 'going',\n",
       " 'to',\n",
       " 'crash',\n",
       " 'it',\n",
       " 'had',\n",
       " 'its',\n",
       " 'pullback',\n",
       " 'and',\n",
       " 'bounced',\n",
       " 'off',\n",
       " 'the',\n",
       " '50ma',\n",
       " 'already',\n",
       " 'now',\n",
       " 'it',\n",
       " 's',\n",
       " 'gearing',\n",
       " 'up',\n",
       " 'for',\n",
       " 'battery',\n",
       " 'day',\n",
       " 'should',\n",
       " 'be',\n",
       " 'a',\n",
       " 'steady',\n",
       " 'rise',\n",
       " 'over',\n",
       " '400',\n",
       " 'this',\n",
       " 'week',\n",
       " 'stop',\n",
       " 'with',\n",
       " 'the',\n",
       " 'nonsense',\n",
       " 'if',\n",
       " 'you',\n",
       " 'want',\n",
       " 'to',\n",
       " 'short',\n",
       " 'and',\n",
       " 'add',\n",
       " 'puts',\n",
       " 'do',\n",
       " 'it',\n",
       " 'at',\n",
       " 'the',\n",
       " 'top',\n",
       " 'after',\n",
       " 'news',\n",
       " 'is',\n",
       " 'out']"
      ]
     },
     "execution_count": 14,
     "metadata": {},
     "output_type": "execute_result"
    }
   ],
   "source": [
    "nltk.word_tokenize(data1[0])"
   ]
  },
  {
   "cell_type": "code",
   "execution_count": 15,
   "metadata": {},
   "outputs": [],
   "source": [
    "def identify_tokens(row):\n",
    "    tokens = nltk.word_tokenize(row)\n",
    "    # taken only words (not punctuation)\n",
    "    token_words = [w for w in tokens if w.isalpha()]\n",
    "    return token_words\n",
    "\n",
    "data1 = data1.apply(identify_tokens)"
   ]
  },
  {
   "cell_type": "code",
   "execution_count": 16,
   "metadata": {},
   "outputs": [
    {
     "data": {
      "text/plain": [
       "0    [tsla, funny, all, these, people, are, saying,...\n",
       "1    [tsla, anyone, else, feel, we, have, been, pin...\n",
       "2                            [tsla, anytime, watchout]\n",
       "3    [tsla, bears, are, scared, letting, them, brin...\n",
       "4                    [tsla, day, of, reckoning, bulls]\n",
       "Name: message, dtype: object"
      ]
     },
     "execution_count": 16,
     "metadata": {},
     "output_type": "execute_result"
    }
   ],
   "source": [
    "data1.head()"
   ]
  },
  {
   "cell_type": "code",
   "execution_count": 17,
   "metadata": {},
   "outputs": [],
   "source": [
    "from nltk.corpus import stopwords\n",
    "stops = set(stopwords.words(\"english\"))"
   ]
  },
  {
   "cell_type": "code",
   "execution_count": 18,
   "metadata": {},
   "outputs": [],
   "source": [
    "def remove_stops(row):\n",
    "    meaningful_words = [w for w in row if not w in stops]\n",
    "    return (meaningful_words)\n",
    "\n",
    "data1 = data1.apply(remove_stops)"
   ]
  },
  {
   "cell_type": "code",
   "execution_count": 19,
   "metadata": {},
   "outputs": [
    {
     "data": {
      "text/plain": [
       "['tsla',\n",
       " 'funny',\n",
       " 'people',\n",
       " 'saying',\n",
       " 'going',\n",
       " 'crash',\n",
       " 'pullback',\n",
       " 'bounced',\n",
       " 'already',\n",
       " 'gearing',\n",
       " 'battery',\n",
       " 'day',\n",
       " 'steady',\n",
       " 'rise',\n",
       " 'week',\n",
       " 'stop',\n",
       " 'nonsense',\n",
       " 'want',\n",
       " 'short',\n",
       " 'add',\n",
       " 'puts',\n",
       " 'top',\n",
       " 'news']"
      ]
     },
     "execution_count": 19,
     "metadata": {},
     "output_type": "execute_result"
    }
   ],
   "source": [
    "data1[0]"
   ]
  },
  {
   "cell_type": "code",
   "execution_count": 20,
   "metadata": {},
   "outputs": [],
   "source": [
    "def rejoin_words(row):\n",
    "    joined_words = ( \" \".join(row))\n",
    "    return joined_words\n",
    "\n",
    "data1 = data1.apply(rejoin_words)"
   ]
  },
  {
   "cell_type": "code",
   "execution_count": 21,
   "metadata": {},
   "outputs": [
    {
     "data": {
      "text/plain": [
       "0    tsla funny people saying going crash pullback ...\n",
       "1               tsla anyone else feel pinned last week\n",
       "2                                tsla anytime watchout\n",
       "3    tsla bears scared letting bring little extra m...\n",
       "4                             tsla day reckoning bulls\n",
       "Name: message, dtype: object"
      ]
     },
     "execution_count": 21,
     "metadata": {},
     "output_type": "execute_result"
    }
   ],
   "source": [
    "data1.head()"
   ]
  },
  {
   "cell_type": "code",
   "execution_count": 22,
   "metadata": {},
   "outputs": [],
   "source": [
    "label = df['sentiment']"
   ]
  },
  {
   "cell_type": "code",
   "execution_count": 23,
   "metadata": {},
   "outputs": [
    {
     "data": {
      "text/plain": [
       "0    Bullish\n",
       "1    Bullish\n",
       "2    Bearish\n",
       "3    Bullish\n",
       "4    Bullish\n",
       "Name: sentiment, dtype: object"
      ]
     },
     "execution_count": 23,
     "metadata": {},
     "output_type": "execute_result"
    }
   ],
   "source": [
    "label.head()"
   ]
  },
  {
   "cell_type": "code",
   "execution_count": 24,
   "metadata": {},
   "outputs": [],
   "source": [
    "import numpy as np"
   ]
  },
  {
   "cell_type": "code",
   "execution_count": 25,
   "metadata": {},
   "outputs": [],
   "source": [
    "messages = np.array(data1)\n",
    "sentiment = np.array(label)\n",
    "dataset = pd.DataFrame({'message': messages, 'sentiment': list(sentiment)}, columns=['message','sentiment'])"
   ]
  },
  {
   "cell_type": "code",
   "execution_count": 28,
   "metadata": {},
   "outputs": [
    {
     "data": {
      "text/html": [
       "<div>\n",
       "<style scoped>\n",
       "    .dataframe tbody tr th:only-of-type {\n",
       "        vertical-align: middle;\n",
       "    }\n",
       "\n",
       "    .dataframe tbody tr th {\n",
       "        vertical-align: top;\n",
       "    }\n",
       "\n",
       "    .dataframe thead th {\n",
       "        text-align: right;\n",
       "    }\n",
       "</style>\n",
       "<table border=\"1\" class=\"dataframe\">\n",
       "  <thead>\n",
       "    <tr style=\"text-align: right;\">\n",
       "      <th></th>\n",
       "      <th>message</th>\n",
       "      <th>sentiment</th>\n",
       "    </tr>\n",
       "  </thead>\n",
       "  <tbody>\n",
       "    <tr>\n",
       "      <th>0</th>\n",
       "      <td>tsla funny people saying going crash pullback ...</td>\n",
       "      <td>Bullish</td>\n",
       "    </tr>\n",
       "    <tr>\n",
       "      <th>1</th>\n",
       "      <td>tsla anyone else feel pinned last week</td>\n",
       "      <td>Bullish</td>\n",
       "    </tr>\n",
       "    <tr>\n",
       "      <th>2</th>\n",
       "      <td>tsla anytime watchout</td>\n",
       "      <td>Bearish</td>\n",
       "    </tr>\n",
       "    <tr>\n",
       "      <th>3</th>\n",
       "      <td>tsla bears scared letting bring little extra m...</td>\n",
       "      <td>Bullish</td>\n",
       "    </tr>\n",
       "    <tr>\n",
       "      <th>4</th>\n",
       "      <td>tsla day reckoning bulls</td>\n",
       "      <td>Bullish</td>\n",
       "    </tr>\n",
       "    <tr>\n",
       "      <th>5</th>\n",
       "      <td>tsla kicked worry battery day foot</td>\n",
       "      <td>Bearish</td>\n",
       "    </tr>\n",
       "    <tr>\n",
       "      <th>6</th>\n",
       "      <td>tsla cnbc shut fu cretins need crawl back rocks</td>\n",
       "      <td>Bullish</td>\n",
       "    </tr>\n",
       "    <tr>\n",
       "      <th>7</th>\n",
       "      <td>tsla crash coming</td>\n",
       "      <td>Bearish</td>\n",
       "    </tr>\n",
       "    <tr>\n",
       "      <th>8</th>\n",
       "      <td>tsla two ol bears chat</td>\n",
       "      <td>Bullish</td>\n",
       "    </tr>\n",
       "    <tr>\n",
       "      <th>9</th>\n",
       "      <td>tsla see bear trying get lose faith read actua...</td>\n",
       "      <td>Bullish</td>\n",
       "    </tr>\n",
       "    <tr>\n",
       "      <th>10</th>\n",
       "      <td>tsla regardless say remember tesla typical car...</td>\n",
       "      <td>Bullish</td>\n",
       "    </tr>\n",
       "    <tr>\n",
       "      <th>11</th>\n",
       "      <td>tsla uptrend</td>\n",
       "      <td>Bullish</td>\n",
       "    </tr>\n",
       "    <tr>\n",
       "      <th>12</th>\n",
       "      <td>tsla looking good needs hold today else red le...</td>\n",
       "      <td>Bullish</td>\n",
       "    </tr>\n",
       "    <tr>\n",
       "      <th>13</th>\n",
       "      <td>tsla next babes set</td>\n",
       "      <td>Bearish</td>\n",
       "    </tr>\n",
       "    <tr>\n",
       "      <th>14</th>\n",
       "      <td>tsla see</td>\n",
       "      <td>Bearish</td>\n",
       "    </tr>\n",
       "  </tbody>\n",
       "</table>\n",
       "</div>"
      ],
      "text/plain": [
       "                                              message sentiment\n",
       "0   tsla funny people saying going crash pullback ...   Bullish\n",
       "1              tsla anyone else feel pinned last week   Bullish\n",
       "2                               tsla anytime watchout   Bearish\n",
       "3   tsla bears scared letting bring little extra m...   Bullish\n",
       "4                            tsla day reckoning bulls   Bullish\n",
       "5                  tsla kicked worry battery day foot   Bearish\n",
       "6     tsla cnbc shut fu cretins need crawl back rocks   Bullish\n",
       "7                                   tsla crash coming   Bearish\n",
       "8                              tsla two ol bears chat   Bullish\n",
       "9   tsla see bear trying get lose faith read actua...   Bullish\n",
       "10  tsla regardless say remember tesla typical car...   Bullish\n",
       "11                                       tsla uptrend   Bullish\n",
       "12  tsla looking good needs hold today else red le...   Bullish\n",
       "13                                tsla next babes set   Bearish\n",
       "14                                           tsla see   Bearish"
      ]
     },
     "execution_count": 28,
     "metadata": {},
     "output_type": "execute_result"
    }
   ],
   "source": [
    "dataset.head(15)"
   ]
  },
  {
   "cell_type": "code",
   "execution_count": 27,
   "metadata": {},
   "outputs": [],
   "source": [
    "#dataset.to_csv('stocktwits_cleaned_messages_nlp.csv',index = False)"
   ]
  },
  {
   "cell_type": "code",
   "execution_count": null,
   "metadata": {},
   "outputs": [],
   "source": []
  }
 ],
 "metadata": {
  "kernelspec": {
   "display_name": "Python 3",
   "language": "python",
   "name": "python3"
  },
  "language_info": {
   "codemirror_mode": {
    "name": "ipython",
    "version": 3
   },
   "file_extension": ".py",
   "mimetype": "text/x-python",
   "name": "python",
   "nbconvert_exporter": "python",
   "pygments_lexer": "ipython3",
   "version": "3.8.3"
  }
 },
 "nbformat": 4,
 "nbformat_minor": 2
}
